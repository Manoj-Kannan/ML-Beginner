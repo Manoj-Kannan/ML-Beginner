{
 "cells": [
  {
   "cell_type": "markdown",
   "id": "severe-start",
   "metadata": {},
   "source": [
    "# Without Libraries"
   ]
  },
  {
   "cell_type": "code",
   "execution_count": 1,
   "id": "through-distributor",
   "metadata": {},
   "outputs": [
    {
     "name": "stdout",
     "output_type": "stream",
     "text": [
      "Mean Absolute Error is 0.398\n"
     ]
    }
   ],
   "source": [
    "#Mean Absolute Error\n",
    "import numpy as np\n",
    "  \n",
    "# Given values\n",
    "Y_true = [1,1,2,2,4]                # Y (actual values)\n",
    "  \n",
    "# Calculated values\n",
    "Y_pred = [0.6,1.29,1.99,2.69,3.4]   # Y'\n",
    "  \n",
    "# Mean Absolute Error\n",
    "MAE = np.mean(np.abs(np.subtract(Y_true,Y_pred)))\n",
    "print('Mean Absolute Error is',MAE)"
   ]
  },
  {
   "cell_type": "code",
   "execution_count": 2,
   "id": "obvious-serve",
   "metadata": {},
   "outputs": [
    {
     "name": "stdout",
     "output_type": "stream",
     "text": [
      "Mean Absolute Percentage Error is 23.799999999999997\n"
     ]
    }
   ],
   "source": [
    "# Mean Absolute Percentage Error\n",
    "# Given values\n",
    "Y_true = [1,1,2,2,4]                # Y (actual values)\n",
    "  \n",
    "# Calculated values\n",
    "Y_pred = [0.6,1.29,1.99,2.69,3.4]   # Y'\n",
    "\n",
    "# Mean Absolute Percentage Error\n",
    "MAPE = np.mean(np.abs((np.subtract(Y_true,Y_pred)/Y_true)))\n",
    "print('Mean Absolute Percentage Error is',MAPE*100)"
   ]
  },
  {
   "cell_type": "code",
   "execution_count": 3,
   "id": "announced-parade",
   "metadata": {},
   "outputs": [
    {
     "name": "stdout",
     "output_type": "stream",
     "text": [
      "Mean Squared Error is 0.21606\n"
     ]
    }
   ],
   "source": [
    "#Mean Squared Error \n",
    "# Given values\n",
    "Y_true = [1,1,2,2,4]                # Y (actual values)\n",
    "  \n",
    "# Calculated values\n",
    "Y_pred = [0.6,1.29,1.99,2.69,3.4]   # Y'\n",
    "  \n",
    "# Mean Squared Error\n",
    "MSE = np.square(np.subtract(Y_true,Y_pred)).mean()\n",
    "print('Mean Squared Error is',MSE)"
   ]
  },
  {
   "cell_type": "code",
   "execution_count": 4,
   "id": "future-northwest",
   "metadata": {},
   "outputs": [
    {
     "name": "stdout",
     "output_type": "stream",
     "text": [
      "Root Mean Squared Error is 0.4648225467853297\n"
     ]
    }
   ],
   "source": [
    "#Root Mean Squared Error\n",
    "# Given values\n",
    "Y_true = [1,1,2,2,4]                # Y (actual values)\n",
    "  \n",
    "# Calculated values\n",
    "Y_pred = [0.6,1.29,1.99,2.69,3.4]   # Y'\n",
    "  \n",
    "# Mean Squared Error\n",
    "RMSE = np.sqrt(np.square(np.subtract(Y_true,Y_pred)).mean())\n",
    "print('Root Mean Squared Error is',RMSE)"
   ]
  },
  {
   "cell_type": "code",
   "execution_count": 5,
   "id": "cutting-credit",
   "metadata": {},
   "outputs": [
    {
     "name": "stdout",
     "output_type": "stream",
     "text": [
      "R2 Score is 0.81995\n"
     ]
    }
   ],
   "source": [
    "#R2 Score\n",
    "# Given values\n",
    "Y_true = [1,1,2,2,4]                # Y (actual values)\n",
    "  \n",
    "# Calculated values\n",
    "Y_pred = [0.6,1.29,1.99,2.69,3.4]   # Y'\n",
    "\n",
    "#R2 Score\n",
    "mean_y = np.mean(Y_true)\n",
    "ss_t = 0\n",
    "ss_r = 0\n",
    "for i in range(len(Y_true)):\n",
    "    ss_t += (Y_true[i] - mean_y) ** 2\n",
    "    ss_r += (Y_true[i] - Y_pred[i]) ** 2\n",
    "r2 = 1 - (ss_r/ss_t)\n",
    "print('R2 Score is',r2)"
   ]
  },
  {
   "cell_type": "markdown",
   "id": "hollow-authority",
   "metadata": {},
   "source": [
    "# With Libraries"
   ]
  },
  {
   "cell_type": "code",
   "execution_count": 6,
   "id": "constant-filling",
   "metadata": {},
   "outputs": [
    {
     "name": "stdout",
     "output_type": "stream",
     "text": [
      "Mean Absolute Error is 0.398\n"
     ]
    }
   ],
   "source": [
    "#Mean Absolute Error\n",
    "from sklearn.metrics import mean_absolute_error\n",
    "  \n",
    "# Given values\n",
    "Y_true = [1,1,2,2,4]                # Y (actual values)\n",
    "  \n",
    "# calculated values\n",
    "Y_pred = [0.6,1.29,1.99,2.69,3.4]   # Y'\n",
    "  \n",
    "# Calculation of Mean Absolute Error (MAE)\n",
    "MAE = mean_absolute_error(Y_true,Y_pred)\n",
    "print('Mean Absolute Error is',MAE)"
   ]
  },
  {
   "cell_type": "code",
   "execution_count": 7,
   "id": "geographic-final",
   "metadata": {},
   "outputs": [
    {
     "name": "stdout",
     "output_type": "stream",
     "text": [
      "Mean Absolute Percentage Error is 23.799999999999997\n"
     ]
    }
   ],
   "source": [
    "# Mean Absolute Percentage Error\n",
    "from sklearn.metrics import mean_absolute_percentage_error\n",
    "\n",
    "# Given values\n",
    "Y_true = [1,1,2,2,4]                # Y (actual values)\n",
    "  \n",
    "# Calculated values\n",
    "Y_pred = [0.6,1.29,1.99,2.69,3.4]   # Y'\n",
    "  \n",
    "# Mean Absolute Percentage Error\n",
    "MAPE = mean_absolute_percentage_error(Y_true,Y_pred)\n",
    "print('Mean Absolute Percentage Error is',MAPE*100)"
   ]
  },
  {
   "cell_type": "code",
   "execution_count": 8,
   "id": "vocal-sector",
   "metadata": {},
   "outputs": [
    {
     "name": "stdout",
     "output_type": "stream",
     "text": [
      "Mean Squared Error is 0.21606\n"
     ]
    }
   ],
   "source": [
    "#Mean Squared Error\n",
    "from sklearn.metrics import mean_squared_error\n",
    "  \n",
    "# Given values\n",
    "Y_true = [1,1,2,2,4]                # Y (actual values)\n",
    "  \n",
    "# calculated values\n",
    "Y_pred = [0.6,1.29,1.99,2.69,3.4]   # Y'\n",
    "  \n",
    "# Calculation of Mean Squared Error (MSE)\n",
    "MSE = mean_squared_error(Y_true,Y_pred)\n",
    "print('Mean Squared Error is',MSE)"
   ]
  },
  {
   "cell_type": "code",
   "execution_count": 9,
   "id": "decreased-tongue",
   "metadata": {},
   "outputs": [
    {
     "name": "stdout",
     "output_type": "stream",
     "text": [
      "Root Mean Squared Error is 0.4648225467853297\n"
     ]
    }
   ],
   "source": [
    "#Root Mean Squared Error\n",
    "from sklearn.metrics import mean_squared_error\n",
    "  \n",
    "# Given values\n",
    "Y_true = [1,1,2,2,4]                # Y (actual values)\n",
    "  \n",
    "# calculated values\n",
    "Y_pred = [0.6,1.29,1.99,2.69,3.4]   # Y'\n",
    "  \n",
    "# Calculation of Mean Squared Error (MSE)\n",
    "RMSE = np.sqrt(mean_squared_error(Y_true,Y_pred))\n",
    "print('Root Mean Squared Error is',RMSE)"
   ]
  },
  {
   "cell_type": "code",
   "execution_count": 10,
   "id": "choice-attendance",
   "metadata": {},
   "outputs": [
    {
     "name": "stdout",
     "output_type": "stream",
     "text": [
      "R2 Score is 0.81995\n"
     ]
    }
   ],
   "source": [
    "#R2 Score\n",
    "# Given values\n",
    "from sklearn.metrics import r2_score\n",
    "\n",
    "Y_true = [1,1,2,2,4]                # Y (actual values)\n",
    "  \n",
    "# Calculated values\n",
    "Y_pred = [0.6,1.29,1.99,2.69,3.4]   # Y'\n",
    "\n",
    "#R2 Score\n",
    "r2 = r2_score(Y_true,Y_pred)\n",
    "print('R2 Score is',r2)"
   ]
  },
  {
   "cell_type": "code",
   "execution_count": null,
   "id": "ethical-evening",
   "metadata": {},
   "outputs": [],
   "source": []
  }
 ],
 "metadata": {
  "kernelspec": {
   "display_name": "Python 3 (ipykernel)",
   "language": "python",
   "name": "python3"
  },
  "language_info": {
   "codemirror_mode": {
    "name": "ipython",
    "version": 3
   },
   "file_extension": ".py",
   "mimetype": "text/x-python",
   "name": "python",
   "nbconvert_exporter": "python",
   "pygments_lexer": "ipython3",
   "version": "3.8.8"
  }
 },
 "nbformat": 4,
 "nbformat_minor": 5
}
