{
 "cells": [
  {
   "cell_type": "markdown",
   "metadata": {},
   "source": [
    "# Without using libraries"
   ]
  },
  {
   "cell_type": "code",
   "execution_count": 1,
   "metadata": {},
   "outputs": [
    {
     "name": "stdout",
     "output_type": "stream",
     "text": [
      "Mean / Average is: 3.0\n"
     ]
    }
   ],
   "source": [
    "#Mean\n",
    "numbers = [1, 2, 3, 4, 5] \n",
    "print(\"Mean / Average is: \" + str(sum(numbers)/len(numbers)))"
   ]
  },
  {
   "cell_type": "code",
   "execution_count": 2,
   "metadata": {},
   "outputs": [
    {
     "name": "stdout",
     "output_type": "stream",
     "text": [
      "Median is: 3\n"
     ]
    }
   ],
   "source": [
    "#Median\n",
    "numbers = [1, 2, 3, 4, 5] \n",
    "n = len(numbers)\n",
    "numbers.sort()\n",
    "if n % 2 == 0:\n",
    "    median1 = numbers[n//2]         # // - integer division\n",
    "    median2 = numbers[n//2 - 1]\n",
    "    median = (median1 + median2)/2\n",
    "else:\n",
    "    median = numbers[n//2]\n",
    "print(\"Median is: \" + str(median))"
   ]
  },
  {
   "cell_type": "code",
   "execution_count": 3,
   "metadata": {},
   "outputs": [
    {
     "name": "stdout",
     "output_type": "stream",
     "text": [
      "{3: 1, 4: 2, 5: 1, 6: 3, 7: 1, 8: 3, 11: 1}\n",
      "Mode(s) is/are :{8, 6}\n"
     ]
    }
   ],
   "source": [
    "#Mode\n",
    "#Method 1:\n",
    "numbers = [11, 8, 8, 3, 4, 4, 5, 6, 6, 6, 7, 8]\n",
    "numbers.sort()                                              # First sort it\n",
    "list1 = []                                                  # Now open an empty list \n",
    "                                                            # We are going to count the occurance of each number and append it\n",
    "\n",
    "i = 0\n",
    "while i < len(numbers) :\n",
    "    list1.append(numbers.count(numbers[i]))\n",
    "    i += 1\n",
    "# the occurrences for each number in sorted list [1, 2, 2, 1, 3, 3, 3, 1, 3, 3, 3, 1] \n",
    "\n",
    "# now you can create a custom dictionary d1 for k : V\n",
    "# where k = your values in sorted y and v = the occurrences of each value in y\n",
    "dict1 = dict(zip(numbers, list1))\n",
    "print(dict1)\n",
    "\n",
    "#now filter the k value fot the largest v values\n",
    "dict2 = {k for (k,v) in dict1.items() if v == max(list1) }\n",
    "print(\"Mode(s) is/are :\" + str(dict2))"
   ]
  },
  {
   "cell_type": "code",
   "execution_count": 4,
   "metadata": {},
   "outputs": [
    {
     "name": "stdout",
     "output_type": "stream",
     "text": [
      "Mode(s) is/are : 8\n"
     ]
    }
   ],
   "source": [
    "#Mode\n",
    "#Method 2:\n",
    "numbers = [11, 8, 8, 3, 4, 4, 5, 6, 6, 6, 7, 8]\n",
    "mode = max(numbers,key=numbers.count)   # max function finds the maximum number in the list.\n",
    "                                        # parameter 'key' is used to determine the max. no. based on given function definition\n",
    "print(\"Mode(s) is/are :\",mode)"
   ]
  },
  {
   "cell_type": "markdown",
   "metadata": {},
   "source": [
    "# Using libraries"
   ]
  },
  {
   "cell_type": "code",
   "execution_count": 5,
   "metadata": {},
   "outputs": [
    {
     "name": "stdout",
     "output_type": "stream",
     "text": [
      "4.545454545454546\n",
      "4\n",
      "1\n"
     ]
    }
   ],
   "source": [
    "from statistics import *\n",
    "numbers = [1,5,8,4,6,9,1,2,7,3,4]\n",
    "print(mean(numbers))\n",
    "print(median(numbers))\n",
    "print(mode(numbers))"
   ]
  }
 ],
 "metadata": {
  "kernelspec": {
   "display_name": "Python 3 (ipykernel)",
   "language": "python",
   "name": "python3"
  },
  "language_info": {
   "codemirror_mode": {
    "name": "ipython",
    "version": 3
   },
   "file_extension": ".py",
   "mimetype": "text/x-python",
   "name": "python",
   "nbconvert_exporter": "python",
   "pygments_lexer": "ipython3",
   "version": "3.8.8"
  }
 },
 "nbformat": 4,
 "nbformat_minor": 2
}
